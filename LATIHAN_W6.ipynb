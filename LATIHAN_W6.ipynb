{
  "cells": [
    {
      "cell_type": "code",
      "source": [
        "#implementasi overLoading\n",
        "\n",
        "class Pegawai:\n",
        "  jumlah = 0\n",
        "\n",
        "  def __init__(self, nama, gaji):\n",
        "    self.nama = nama\n",
        "    self.gaji = gaji\n",
        "    Pegawai.jumlah +=1\n",
        "\n",
        "  def tampilJumlah(self):\n",
        "   print(\"Total pegawai\", Pegawai.jumlah)\n",
        "\n",
        "  def tampilPegawai(self):\n",
        "   print(\"Nama\",self.nama, \",gaji\", self.gaji)\n",
        "\n",
        "  #method overloading\n",
        "  def tunjangan(self, istri=None, anak=None):\n",
        "    if anak != None and istri != None:\n",
        "      total = anak+istri\n",
        "      print(\"Tunjangan anak+ istri =\", total)\n",
        "    else:\n",
        "      total = istri\n",
        "      print(\"Tunjangan istri =\", total)\n",
        "\n",
        "# memanggil kelas\n",
        "peg1 =Pegawai(\"budi\", 2000)\n",
        "peg2 =Pegawai(\"ahmad\", 6000)\n",
        "peg1.tampilPegawai()\n",
        "peg2.tampilPegawai()\n",
        "peg1.tunjangan(2500,2000)\n",
        "peg2.tunjangan(28)\n",
        "\n",
        "print(\"Total pegawai %d\"% Pegawai.jumlah)\n",
        "rataGaji=(peg1.gaji + peg2.gaji)/Pegawai.jumlah\n",
        "print(\"Rata-rata gaji = \"+str(rataGaji))\n",
        "\n",
        "      \n",
        "    \n"
      ],
      "metadata": {
        "colab": {
          "base_uri": "https://localhost:8080/"
        },
        "id": "YnmWfOos2Grq",
        "outputId": "6a21ac0c-cfa2-4694-bd1f-2a7e7fe22e1f"
      },
      "execution_count": null,
      "outputs": [
        {
          "output_type": "stream",
          "name": "stdout",
          "text": [
            "Nama budi ,gaji 2000\n",
            "Nama ahmad ,gaji 6000\n",
            "Tunjangan anak+ istri = 4500\n",
            "Tunjangan istri = 28\n",
            "Total pegawai 2\n",
            "Rata-rata gaji = 4000.0\n"
          ]
        }
      ]
    },
    {
      "cell_type": "code",
      "source": [
        "#Implementasi Overriding Class Segi Empat\n",
        "class Segiempat() :\n",
        "    def __init__(self, panjang, lebar) :\n",
        "        self.panjang = panjang\n",
        "        self.lebar = lebar\n",
        " \n",
        "    def hitungLuas(self) :\n",
        "        print(f\"Luas Segiempat : {self.panjang * self.lebar}\")\n",
        "\n",
        "class Bujursangkar(Segiempat) :\n",
        "    def __init__(self,sisi) :\n",
        "        self.side = sisi\n",
        "        Segiempat.__init__(self, sisi, sisi)\n",
        "    \n",
        "\n",
        "    #Overriding\n",
        "    def hitungLuas(self) :\n",
        "        print(f\"Luas Bujur Sangkar = {self.side * self.side}\")\n",
        "\n",
        "b = Bujursangkar(4)\n",
        "s = Segiempat(2, 4)\n",
        "b.hitungLuas()\n",
        "s.hitungLuas()"
      ],
      "metadata": {
        "colab": {
          "base_uri": "https://localhost:8080/"
        },
        "id": "q9nQfaeJ_mLs",
        "outputId": "3948fe1d-5dc7-4cc7-dc31-fc31b956fae0"
      },
      "execution_count": null,
      "outputs": [
        {
          "output_type": "stream",
          "name": "stdout",
          "text": [
            "Luas Bujur Sangkar = 16\n",
            "Luas Segiempat : 8\n"
          ]
        }
      ]
    },
    {
      "cell_type": "code",
      "source": [
        "#Polymorphism dengan Fungsi\n",
        "\n",
        "print(len(\"Polymorphism\"))\n",
        "print(len([0,1,2,3]))\n",
        "\n",
        "#using class\n",
        "class jerman:\n",
        "  def ibukota(self):\n",
        "    print(\"Berlin adalah ibukota negara Jerman\")\n",
        "\n",
        "class jepang:\n",
        "  def ibukota(self):\n",
        "    print(\"Tokyo adalah ibukota negara Jepang\")\n",
        "\n",
        "negara1 = jerman()\n",
        "negara2 = jepang()\n",
        "\n",
        "for country in (negara1,negara2):\n",
        "  country.ibukota()"
      ],
      "metadata": {
        "id": "k4jmflHkTvn2",
        "outputId": "d0af2428-c1fe-432b-a118-3666bccc3c10",
        "colab": {
          "base_uri": "https://localhost:8080/"
        }
      },
      "execution_count": null,
      "outputs": [
        {
          "output_type": "stream",
          "name": "stdout",
          "text": [
            "12\n",
            "4\n",
            "Berlin adalah ibukota negara Jerman\n",
            "Tokyo adalah ibukota negara Jepang\n"
          ]
        }
      ]
    },
    {
      "cell_type": "code",
      "source": [
        "#Polymorphism dengan Class\n",
        "\n",
        "class Kucing:\n",
        "  def __init__(self, nama, umur):\n",
        "    self.nama = nama\n",
        "    self.umur = umur\n",
        "\n",
        "  def bersuara(self):\n",
        "    print(\"meow\")\n",
        "\n",
        "class Dog:\n",
        "  def __init__(self, nama, umur):\n",
        "    self.nama = nama\n",
        "    self.umur = umur\n",
        "\n",
        "  def bersuara(self):\n",
        "    print(\"Guk...guk..\")\n",
        "\n",
        "kucing1 = Kucing(\"Tom\", 3)\n",
        "anjing1 = Dog(\"Spike\", 4)\n",
        "\n",
        "for hewan in (kucing1, anjing1):\n",
        "  hewan.bersuara()\n"
      ],
      "metadata": {
        "id": "ZxtlNfNXVPSF",
        "outputId": "990ab954-cdc4-4e63-a944-70e782864825",
        "colab": {
          "base_uri": "https://localhost:8080/"
        }
      },
      "execution_count": null,
      "outputs": [
        {
          "output_type": "stream",
          "name": "stdout",
          "text": [
            "meow\n",
            "Guk...guk..\n"
          ]
        }
      ]
    },
    {
      "cell_type": "code",
      "source": [
        "#Polymmorphism dengan Inheritance\n",
        "\n",
        "class Burung:\n",
        "  def intro(self):\n",
        "    print(\"Di dunia ini ada beberapa type berbeda dari specialis burung\")\n",
        "\n",
        "  def terbang(self):\n",
        "    print(\"Hampir semua burung dapat terbang, namun ada beberapa yang tidak dapat terbang\")\n",
        "\n",
        "class Elang(Burung):\n",
        "  def terbang(self):\n",
        "    print(\"Elang dapat terbang\")\n",
        "\n",
        "class BurungUnta(Burung):\n",
        "  def terbang(self):\n",
        "    print(\"Burung unta tidak dapat terbang\")\n",
        "\n",
        "obj_burung = Burung()\n",
        "obj_elang = Elang()\n",
        "obj_Burung_unta = BurungUnta()\n",
        "\n",
        "obj_burung.intro()\n",
        "obj_burung.terbang()\n",
        "\n",
        "obj_elang.intro()\n",
        "obj_elang.terbang()\n",
        "\n",
        "obj_Burung_unta.intro()\n",
        "obj_Burung_unta.terbang()\n",
        "\n",
        "\n"
      ],
      "metadata": {
        "id": "4CqZdL9cWx9y",
        "outputId": "471b6013-7b68-47d8-b626-4b33aa1247ba",
        "colab": {
          "base_uri": "https://localhost:8080/"
        }
      },
      "execution_count": null,
      "outputs": [
        {
          "output_type": "stream",
          "name": "stdout",
          "text": [
            "Di dunia ini ada beberapa type berbeda dari specialis burung\n",
            "Hampir semua burung dapat terbang, namun ada beberapa yang tidak dapat terbang\n",
            "Di dunia ini ada beberapa type berbeda dari specialis burung\n",
            "Elang dapat terbang\n",
            "Di dunia ini ada beberapa type berbeda dari specialis burung\n",
            "Burung unta tidak dapat terbang\n"
          ]
        }
      ]
    },
    {
      "cell_type": "code",
      "source": [
        "#Class Abstrak\n",
        "from abc import ABC, abstractmethod\n",
        "class Bentuk(ABC) :\n",
        "    @abstractmethod\n",
        "    def luas(self) :\n",
        "        return self._sisi * self._sisi\n",
        "\n",
        "    @abstractmethod\n",
        "    def keliling(self) :\n",
        "        return 4 * self._sisi\n",
        "\n",
        "class Persegi(Bentuk) :\n",
        "    def __init__(self, sisi) :\n",
        "        self._sisi = sisi\n",
        "    def luas(self) :\n",
        "        return self._sisi * self._sisi\n",
        "    def keliling(self) :\n",
        "        return 4 * self._sisi \n",
        "\n",
        "persegi = Persegi(6)\n",
        "print(persegi.luas())\n",
        "print(persegi.keliling())\n"
      ],
      "metadata": {
        "id": "oODLUPieZdNW",
        "outputId": "6473e248-389f-4a7e-81c4-e3298f76263b",
        "colab": {
          "base_uri": "https://localhost:8080/"
        }
      },
      "execution_count": null,
      "outputs": [
        {
          "output_type": "stream",
          "name": "stdout",
          "text": [
            "36\n",
            "24\n"
          ]
        }
      ]
    },
    {
      "cell_type": "code",
      "source": [
        "#Implementasi Overloading Class Mahasiswa\n",
        "class Mahasiswa :\n",
        "    def __init__(self, nama, nim) :\n",
        "        self.nama = nama\n",
        "        self.nim = nim\n",
        "    \n",
        "    def tampilMhs(self) :\n",
        "        print(f\"Nama\\t\\t: {self.nama} \\nNim \\t\\t: {self.nim}\")\n",
        "\n",
        "    #Method Overloading\n",
        "    def hitungSks(self, jmlhsks = None, sks = None) :\n",
        "        if jmlhsks != None and sks != None :\n",
        "            totalsks = jmlhsks + sks\n",
        "            print(f\"Total sks\\t: {totalsks}\")\n",
        "        else :\n",
        "            totalsks = jmlhsks\n",
        "            print(f\"Total Sks\\t: {totalsks}\")\n",
        "\n",
        "        if totalsks>=100 :\n",
        "            print(\"Diperbolehkan mengambil skripsi\")\n",
        "        else :\n",
        "            print(\"Tidak diperbolehkan mengambil skripsi\")\n",
        "\n",
        "mahasiswa1 = Mahasiswa(\"Eren\", 123180015)\n",
        "mahasiswa2 = Mahasiswa(\"Mikasa\", 123190007)\n",
        "\n",
        "mahasiswa1.tampilMhs()\n",
        "mahasiswa1.hitungSks(80, 34)\n",
        "\n",
        "mahasiswa2.tampilMhs()\n",
        "mahasiswa2.hitungSks(83)"
      ],
      "metadata": {
        "colab": {
          "base_uri": "https://localhost:8080/"
        },
        "id": "NL3OLHh15TXu",
        "outputId": "414ea580-2287-4a87-a7eb-9b7ddfbff41d"
      },
      "execution_count": null,
      "outputs": [
        {
          "output_type": "stream",
          "name": "stdout",
          "text": [
            "Nama\t\t: Eren \n",
            "Nim \t\t: 123180015\n",
            "Total sks\t: 114\n",
            "Diperbolehkan mengambil skripsi\n",
            "Nama\t\t: Mikasa \n",
            "Nim \t\t: 123190007\n",
            "Total Sks\t: 83\n",
            "Tidak diperbolehkan mengambil skripsi\n"
          ]
        }
      ]
    },
    {
      "cell_type": "code",
      "source": [
        "#Implementasi Overriding Class Mahasiswa\n",
        "class Mahasiswa :\n",
        "    def __init__(self, nama, nim) :\n",
        "        self.nama = nama\n",
        "        self.nim = nim\n",
        "\n",
        "    def tampil(self) :\n",
        "        print(f\"Nama\\t\\t: {self.nama} \\nNim \\t\\t: {self.nim}\\n\")\n",
        "\n",
        "class Hitung(Mahasiswa) :\n",
        "    def __init__(self, nama, nim, jmlhsks, sks) :\n",
        "        super().__init__(nama, nim)\n",
        "        self.jmlhsks = jmlhsks\n",
        "        self.sks = sks\n",
        "       \n",
        "\n",
        "    #Override Method\n",
        "    def tampil(self):\n",
        "        totalsks = self.jmlhsks + self.sks\n",
        "\n",
        "        if totalsks>=100 :\n",
        "            print(f\"Nama\\t\\t: {self.nama} \\nNim \\t\\t: {self.nim}\")\n",
        "            print(f\"Total Sks\\t: {totalsks}\")\n",
        "            print(\"Diperbolehkan mengambil skripsi\\n\")\n",
        "        else :\n",
        "            print(f\"Nama\\t\\t: {self.nama} \\nNim \\t\\t: {self.nim}\")\n",
        "            print(f\"Total Sks\\t: {totalsks}\")\n",
        "            print(\"Tidak diperbolehkan mengambil skripsi\\n\")\n",
        "        \n",
        "mahasiswa1 = Mahasiswa(\"Eren\", 123180015)\n",
        "mahasiswa2 = Hitung(\"Mikasa\", 123190007, 77, 45)\n",
        "\n",
        "mahasiswa1.tampil()\n",
        "mahasiswa2.tampil()\n"
      ],
      "metadata": {
        "colab": {
          "base_uri": "https://localhost:8080/"
        },
        "id": "ttlsHkUs5fnN",
        "outputId": "2668981a-b089-48b7-e91a-cc24199682d0"
      },
      "execution_count": null,
      "outputs": [
        {
          "output_type": "stream",
          "name": "stdout",
          "text": [
            "Nama\t\t: Eren \n",
            "Nim \t\t: 123180015\n",
            "\n",
            "Nama\t\t: Mikasa \n",
            "Nim \t\t: 123190007\n",
            "Total Sks\t: 122\n",
            "Diperbolehkan mengambil skripsi\n",
            "\n"
          ]
        }
      ]
    }
  ],
  "metadata": {
    "colab": {
      "collapsed_sections": [],
      "name": "LATIHAN_W6",
      "provenance": []
    },
    "kernelspec": {
      "display_name": "Python 3",
      "name": "python3"
    }
  },
  "nbformat": 4,
  "nbformat_minor": 0
}