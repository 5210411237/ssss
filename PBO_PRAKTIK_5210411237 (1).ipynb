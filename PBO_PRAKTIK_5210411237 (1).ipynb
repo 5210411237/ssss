{
  "cells": [
    {
      "cell_type": "markdown",
      "source": [
        "# NAMA : ROYYAN MUSTOVA \n",
        "# NIM  : 5210411237\n",
        "# KELAS: PBO-P VII"
      ],
      "metadata": {
        "id": "9Fg2ICjdF68J"
      }
    },
    {
      "cell_type": "markdown",
      "source": [
        "#Class MenuMinuman\n"
      ],
      "metadata": {
        "id": "l9XeJeeeSfJ3"
      }
    },
    {
      "cell_type": "code",
      "source": [
        "class MenuMinuman2:\n",
        "  def __init__(self,nama,deskripsi,harga):\n",
        "    self.nama = nama\n",
        "    self.deskripsi = deskripsi\n",
        "    self.harga = harga\n",
        "\n",
        "mnm1 = MenuMinuman2('Jus Jambu','Jus Jambu merah tanpa gula' , 8500)\n",
        "mnm2 = MenuMinuman2('Jus Alpukat Ori','Jus Alpukat dengan tamahan air gula merah',15000)\n",
        "mnm3 = MenuMinuman2('Jus Alpukat Xtra Milk', 'Jus Alpukat dengan campurab susu cokelat dan taburan keping coco',15000)\n",
        "mnm4 = MenuMinuman2('Red & Smooth', 'Smoothie pisang susu dengan strawbery',17500)\n",
        "\n",
        "pilihan_minuman = [mnm1,mnm2,mnm3,mnm4]\n",
        "print('Daftar menu Healthy Fruites')\n",
        "for mn in pilihan_minuman:\n",
        "  t = '{} harga Rp {}, {}' .format(mn.nama,mn.harga,mn.deskripsi)\n",
        "  print(t)"
      ],
      "metadata": {
        "colab": {
          "base_uri": "https://localhost:8080/"
        },
        "id": "TgrFAwXw1zk1",
        "outputId": "519e07ea-278b-469d-95ca-bd9dd128b21e"
      },
      "execution_count": 10,
      "outputs": [
        {
          "output_type": "stream",
          "name": "stdout",
          "text": [
            "Daftar menu Healthy Fruites\n",
            "Jus Jambu harga Rp 8500, Jus Jambu merah tanpa gula\n",
            "Jus Alpukat Ori harga Rp 15000, Jus Alpukat dengan tamahan air gula merah\n",
            "Jus Alpukat Xtra Milk harga Rp 15000, Jus Alpukat dengan campurab susu cokelat dan taburan keping coco\n",
            "Red & Smooth harga Rp 17500, Smoothie pisang susu dengan strawbery\n"
          ]
        }
      ]
    },
    {
      "cell_type": "markdown",
      "source": [
        "Contoh program beserta outputnya"
      ],
      "metadata": {
        "id": "cuJ-m-SsSp38"
      }
    },
    {
      "cell_type": "code",
      "source": [
        "class Titik:\n",
        "  def __init__(self,x,y):\n",
        "    self.x = x\n",
        "    self.y = y\n",
        "\n",
        "titik_a = Titik(0,0)\n",
        "titik_b = Titik(3,4)\n",
        "print('Titik A memiliki Koordinat ({},{})' .format(titik_a.x,titik_a.y))\n",
        "print('Titik B memiliki Koordinat ({},{})' .format(titik_b.x,titik_b.y))\n",
        "\n"
      ],
      "metadata": {
        "colab": {
          "base_uri": "https://localhost:8080/"
        },
        "id": "amHxM8kKSxLX",
        "outputId": "1ed52fa5-0440-46c0-cff1-c26e9b1e6416"
      },
      "execution_count": 11,
      "outputs": [
        {
          "output_type": "stream",
          "name": "stdout",
          "text": [
            "Titik A memiliki Koordinat (0,0)\n",
            "Titik B memiliki Koordinat (3,4)\n"
          ]
        }
      ]
    },
    {
      "cell_type": "markdown",
      "source": [
        "Class Buku"
      ],
      "metadata": {
        "id": "ipfnZeV9T5kW"
      }
    },
    {
      "cell_type": "code",
      "source": [
        "class buku:\n",
        "  def __init__(self,judul,pengarang,tahun_terbit):\n",
        "    self.judul = judul\n",
        "    self.pengarang = pengarang \n",
        "    self.tahun_terbit = tahun_terbit\n",
        "\n",
        "buku = buku('Tenggelamnya Kapal Van Der Wijck', 'HAMKA',1938)\n",
        "t= 'buku {} Karangan {} pertama kali diterbitkan tahun {}'.format(buku.judul,buku.pengarang,buku.tahun_terbit)\n",
        "print(t)\n"
      ],
      "metadata": {
        "colab": {
          "base_uri": "https://localhost:8080/"
        },
        "id": "DvsAvIxrT-0a",
        "outputId": "6314e750-2796-4789-aeba-0048e51b10d5"
      },
      "execution_count": 13,
      "outputs": [
        {
          "output_type": "stream",
          "name": "stdout",
          "text": [
            "buku Tenggelamnya Kapal Van Der Wijck Karangan HAMKA pertama kali diterbitkan tahun 1938\n"
          ]
        }
      ]
    },
    {
      "cell_type": "markdown",
      "source": [
        "Class Garis"
      ],
      "metadata": {
        "id": "tOusgTPXVWl7"
      }
    },
    {
      "cell_type": "code",
      "source": [
        "# titik dibentuk posisi pada sumbu x dan y\n",
        "class Titik:\n",
        "  def __init__(self,x,y):\n",
        "    self.x = x\n",
        "    self.y = y\n",
        "\n",
        "# garis dibentuk dari dua titik\n",
        "class Garis:\n",
        "  def __init__(self,titik_pertama,titik_kedua):\n",
        "    self.titik_pertama = titik_pertama\n",
        "    self.titik_kedua = titik_kedua\n",
        "\n",
        "  def panjang(self):\n",
        "    pjg_x = self.titik_kedua.x - self.titik_pertama.x\n",
        "    pjg_y = self.titik_kedua.y - self.titik_pertama.y\n",
        "    pjg = (pjg_x**2 + pjg_y**2) ** 0.5\n",
        "    return pjg\n",
        "\n",
        "titik_a = Titik(0,0)\n",
        "titik_b = Titik(3,4)\n",
        "garis_ab = Garis(titik_a,titik_b)\n",
        "print('panjang garis ab adalah {}'.format(garis_ab.panjang))\n"
      ],
      "metadata": {
        "colab": {
          "base_uri": "https://localhost:8080/"
        },
        "id": "ilClAd_TVah-",
        "outputId": "18524400-69d8-4c9f-a2a2-37db23ecdc8d"
      },
      "execution_count": 16,
      "outputs": [
        {
          "output_type": "stream",
          "name": "stdout",
          "text": [
            "panjang garis ab adalah <bound method Garis.panjang of <__main__.Garis object at 0x7f5fc10eaa50>>\n"
          ]
        }
      ]
    },
    {
      "cell_type": "markdown",
      "source": [
        "Class Mahasiswa"
      ],
      "metadata": {
        "id": "wugKlQvFY7S6"
      }
    },
    {
      "cell_type": "code",
      "source": [
        "class Mahasiswa:\n",
        "  def __init__(self,nama,nim,prodi,thn_masuk):\n",
        "    self.nama = nama\n",
        "    self.nim = nim\n",
        "    self.prodi = prodi\n",
        "    self.thn_masuk = thn_masuk\n",
        "\n",
        "m1 = Mahasiswa('Udin', '10120371', 'Sistem Informasi',2020)\n",
        "teks ='{} adalah mahasiswa {} angkatan {} dengan nim {}'.format(m1.nama,m1.prodi,m1.thn_masuk,m1.nim)\n",
        "print(teks)"
      ],
      "metadata": {
        "colab": {
          "base_uri": "https://localhost:8080/"
        },
        "id": "PUD8hWDgY-0c",
        "outputId": "80b5b012-b2b7-4566-aa46-4b0a6408b103"
      },
      "execution_count": 17,
      "outputs": [
        {
          "output_type": "stream",
          "name": "stdout",
          "text": [
            "Udin adalah mahasiswa Sistem Informasi angkatan 2020 dengan nim 10120371\n"
          ]
        }
      ]
    },
    {
      "cell_type": "markdown",
      "source": [
        "(1.) 2 objek pada Kelas Menu"
      ],
      "metadata": {
        "id": "r-evoazPWJMG"
      }
    },
    {
      "cell_type": "code",
      "source": [
        "class MenuMakanan:\n",
        "  def __init__(self,nama,deskripsi,harga):\n",
        "    self.nama = nama\n",
        "    self.deskripsi = deskripsi\n",
        "    self.harga = harga\n",
        "\n",
        "mnm1 = MenuMakanan('Bakso Biasa','Bakso urat dengan campuran mie' , 10000)\n",
        "mnm2 = MenuMakanan('Bakso Iga','Bakso urat dengan tambahan satu iga',15000)\n",
        "mnm3 = MenuMakanan('Mie Ayam bakso', 'Mie Ayam dengan tambahan 3 butir bakso',13000)\n",
        "mnm4 = MenuMakanan('Mie Ayam Ceker', 'Mie Ayam dengan topping ceker',14000)\n",
        "\n",
        "pilihan_makanan = [mnm1,mnm2,mnm3,mnm4]\n",
        "print('Daftar menu makanan bakso & mie ayam')\n",
        "for mn in pilihan_makanan:\n",
        "  t = '{} harga Rp {}, {}' .format(mn.nama,mn.harga,mn.deskripsi)\n",
        "  print(t)"
      ],
      "metadata": {
        "colab": {
          "base_uri": "https://localhost:8080/"
        },
        "id": "YYBp9h0eWQVS",
        "outputId": "5a63fdec-c8af-4e05-922e-716892a2384a"
      },
      "execution_count": 2,
      "outputs": [
        {
          "output_type": "stream",
          "name": "stdout",
          "text": [
            "Daftar menu makanan bakso & mie ayam\n",
            "Bakso Biasa harga Rp 10000, Bakso urat dengan campuran mie\n",
            "Bakso Iga harga Rp 15000, Bakso urat dengan tambahan satu iga\n",
            "Mie Ayam bakso harga Rp 13000, Mie Ayam dengan tambahan 3 butir bakso\n",
            "Mie Ayam Ceker harga Rp 14000, Mie Ayam dengan topping ceker\n"
          ]
        }
      ]
    },
    {
      "cell_type": "markdown",
      "source": [
        "(2.) 2 objek kelas Mahasiswa"
      ],
      "metadata": {
        "id": "yjXmfF6O6sHv"
      }
    },
    {
      "cell_type": "code",
      "source": [
        "class Mahasiswa:\n",
        "  def __init__(self,nama,nim,prodi,thn_masuk):\n",
        "    self.nama = nama\n",
        "    self.nim = nim\n",
        "    self.prodi = prodi\n",
        "    self.thn_masuk = thn_masuk\n",
        "\n",
        "m1=Mahasiswa('Amabar',52104111,'Manajemen',2019)\n",
        "m2=Mahasiswa('Titik',52104222,'ilmu komunikasi',2018)\n",
        "m3=Mahasiswa('fauzi',52104333,'Teknik sipil',2020)\n",
        "m4=Mahasiswa('Ahmad',52104444,'Teknik industri',2021)\n",
        "mahas=[m1,m2,m3,m4]\n",
        "for x in mahas:\n",
        "  print('nama {} dengan nim {} jurusan {} tahun masuk {}'.format(x.nama,x.nim,x.prodi,x.thn_masuk))\n"
      ],
      "metadata": {
        "colab": {
          "base_uri": "https://localhost:8080/"
        },
        "id": "bsz98fe566Lb",
        "outputId": "cffa8cc7-b987-493e-ba26-114dd33c1949"
      },
      "execution_count": 4,
      "outputs": [
        {
          "output_type": "stream",
          "name": "stdout",
          "text": [
            "nama Amabar dengan nim 52104111 jurusan Manajemen tahun masuk 2019\n",
            "nama Titik dengan nim 52104222 jurusan ilmu komunikasi tahun masuk 2018\n",
            "nama fauzi dengan nim 52104333 jurusan Teknik sipil tahun masuk 2020\n",
            "nama Ahmad dengan nim 52104444 jurusan Teknik industri tahun masuk 2021\n"
          ]
        }
      ]
    },
    {
      "cell_type": "markdown",
      "source": [
        "(3.) 2 objek pada kelas Buku"
      ],
      "metadata": {
        "id": "gSBWRg80-31M"
      }
    },
    {
      "cell_type": "code",
      "source": [
        "class buku:\n",
        "  def __init__(self,judul,pengarang,tahun_terbit):\n",
        "    self.judul = judul\n",
        "    self.pengarang = pengarang\n",
        "    self.tahun_terbit = tahun_terbit\n",
        "\n",
        "b1= buku('Perempuan Jogja','AHMAD MUNIF',2010)\n",
        "b2= buku('Sihir Perempuan','INTAN PARAMADHITA',2005)\n",
        "b3= buku('Antara Ayah dan Anak','IVAN S. TURGENEV',1986)\n",
        "cerpen=[b1,b2,b3]\n",
        "for x in cerpen:\n",
        "  print('buku {} karangan {} tahun diterbitkan {}'.format(x.judul,x.pengarang,x.tahun_terbit))\n"
      ],
      "metadata": {
        "colab": {
          "base_uri": "https://localhost:8080/"
        },
        "id": "KSGy3kOg--SE",
        "outputId": "8897a807-6d58-4e55-a3dd-6f5021d08a7c"
      },
      "execution_count": 20,
      "outputs": [
        {
          "output_type": "stream",
          "name": "stdout",
          "text": [
            "buku Perempuan Jogja karangan AHMAD MUNIF tahun diterbitkan 2010\n",
            "buku Sihir Perempuan karangan INTAN PARAMADHITA tahun diterbitkan 2005\n",
            "buku Antara Ayah dan Anak karangan IVAN S. TURGENEV tahun diterbitkan 1986\n"
          ]
        }
      ]
    }
  ],
  "metadata": {
    "colab": {
      "collapsed_sections": [],
      "name": "PBO_PRAKTIK_5210411237",
      "provenance": []
    },
    "kernelspec": {
      "display_name": "Python 3",
      "name": "python3"
    }
  },
  "nbformat": 4,
  "nbformat_minor": 0
}