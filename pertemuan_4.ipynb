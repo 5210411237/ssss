{
  "cells": [
    {
      "cell_type": "code",
      "source": [
        "# NAMA : ROYYAN MUSTOVA\n",
        "# NIM  : 5210411237\n",
        "# KELAS: PBOP-VII\n",
        "#TUGAS 4"
      ],
      "metadata": {
        "id": "IDWF0Mbmz8PP"
      },
      "execution_count": null,
      "outputs": []
    },
    {
      "cell_type": "code",
      "source": [
        "class segitiga:\n",
        "  def __init__(self,alas,tinggi):\n",
        "    self.alas = alas\n",
        "    self.tinggi = tinggi\n",
        "    self.luas = 0.5 * alas * tinggi\n",
        "\n",
        "segitiga_besar = segitiga(100,80)\n",
        "\n",
        "#akses variabel public alas, tinggi, dan luas dari luar kelas segitiga\n",
        "print(\"alas: \",segitiga_besar.alas)\n",
        "print(\"tinggi: \",segitiga_besar.tinggi)\n",
        "print(\"luas: \",segitiga_besar.luas)"
      ],
      "metadata": {
        "colab": {
          "base_uri": "https://localhost:8080/"
        },
        "id": "IE3zgzZQZNW4",
        "outputId": "bef2fa44-dbef-4163-93cc-22d70a53c306"
      },
      "execution_count": null,
      "outputs": [
        {
          "output_type": "stream",
          "name": "stdout",
          "text": [
            "alas:  100\n",
            "tinggi:  80\n",
            "luas:  4000.0\n"
          ]
        }
      ]
    },
    {
      "cell_type": "markdown",
      "source": [
        "HAK AKSES PROTECTED"
      ],
      "metadata": {
        "id": "1rNDgvp1bC3z"
      }
    },
    {
      "cell_type": "code",
      "source": [
        "class Utama:\n",
        "  def __init__(self):\n",
        "     self._a = 2\n",
        "\n",
        "class Turunan(Utama):\n",
        "  def __init__(self):\n",
        "    #Memanggil konstruktor pada kelas Utama\n",
        "    Utama.__init__(self)\n",
        "    print(\"Memanggil variabel protected pada class utama: \",self._a)\n",
        "\n",
        "    #Memodify the protected variable:\n",
        "    self._a = 3\n",
        "    print(\"Memanggil variabel protected yang dimodifikasi diluar class: \",self._a)\n",
        "\n",
        "\n",
        "objek1= Turunan()\n",
        "objek2= Utama()\n",
        "\n",
        "#Memanggil variabel protected\n",
        "print(\"Mengakses variabel protected dari objek1: \", objek1._a)\n",
        "print(\"Mengakses variabel protected dari objek2: \", objek2._a)"
      ],
      "metadata": {
        "colab": {
          "base_uri": "https://localhost:8080/"
        },
        "id": "1q2eYhh7eyFk",
        "outputId": "d2bca4a4-2a7c-4d01-aa8b-5ee94648f67c"
      },
      "execution_count": null,
      "outputs": [
        {
          "output_type": "stream",
          "name": "stdout",
          "text": [
            "Memanggil variabel protected pada class utama:  2\n",
            "Memanggil variabel protected yang dimodifikasi diluar class:  3\n",
            "Mengakses variabel protected dari objek1:  3\n",
            "Mengakses variabel protected dari objek2:  2\n"
          ]
        }
      ]
    },
    {
      "cell_type": "markdown",
      "source": [
        "HAK AKSES PRIVATE"
      ],
      "metadata": {
        "id": "tHcWsMiNg1hu"
      }
    },
    {
      "cell_type": "code",
      "source": [
        "class Hitung:\n",
        "    def __init__(self) -> None:\n",
        "        self.__angkaRahasia = 0\n",
        "\n",
        "    def tampilkanHitung(self):\n",
        "        self.__angkaRahasia += 1\n",
        "        print(self.__angkaRahasia)\n",
        "\n",
        "\n",
        "h = Hitung()\n",
        "\n",
        "h.tampilkanHitung()\n",
        "h.tampilkanHitung()\n",
        "h._Hitung__angkaRahasia"
      ],
      "metadata": {
        "colab": {
          "base_uri": "https://localhost:8080/"
        },
        "id": "bndudCSQiZme",
        "outputId": "a6dbf1a1-3fab-425c-8060-96921ad2f2b5"
      },
      "execution_count": 1,
      "outputs": [
        {
          "output_type": "stream",
          "name": "stdout",
          "text": [
            "1\n",
            "2\n"
          ]
        },
        {
          "output_type": "execute_result",
          "data": {
            "text/plain": [
              "2"
            ]
          },
          "metadata": {},
          "execution_count": 1
        }
      ]
    },
    {
      "cell_type": "code",
      "source": [
        "\n",
        "class Mobil:\n",
        "    def __init__(self, jendela, pintu, mesin) -> None:\n",
        "        self._jendela = jendela\n",
        "        self._pintu = pintu\n",
        "        self._mesin = mesin\n",
        "\n",
        "\n",
        "class truk(Mobil):\n",
        "    def __init__(self, jendela, pintu, mesin, Merk) -> None:\n",
        "        super().__init__(jendela, pintu, mesin)\n",
        "        self._merk = Merk\n",
        "\n",
        "\n",
        "tes = truk(2, 4, 'diesel', 'mitsubushi')\n",
        "\n",
        "# memanggil protected\n",
        "print(\n",
        "    f'Truk dengan {tes._pintu} Pintu dan {tes._jendela} Jendela ini bermesin {tes._mesin} dibuat oleh {tes._merk}')\n",
        "\n"
      ],
      "metadata": {
        "colab": {
          "base_uri": "https://localhost:8080/"
        },
        "id": "5emwquxCk_fJ",
        "outputId": "17aad54b-683f-402f-f8bf-9d67f256ad36"
      },
      "execution_count": 3,
      "outputs": [
        {
          "output_type": "stream",
          "name": "stdout",
          "text": [
            "Truk dengan 4 Pintu dan 2 Jendela ini bermesin diesel dibuat oleh mitsubushi\n"
          ]
        }
      ]
    },
    {
      "cell_type": "code",
      "source": [
        "class Mobil:\n",
        "    def __init__(self, jendela, pintu, mesin) -> None:\n",
        "        self.jendela = jendela\n",
        "        self.pintu = pintu\n",
        "        self.mesin = mesin\n",
        "\n",
        "\n",
        "class sedan(Mobil):\n",
        "    def __init__(self, jendela, pintu, mesin, Merk) -> None:\n",
        "        super().__init__(jendela, pintu, mesin)\n",
        "        self.merk = Merk\n",
        "\n",
        "\n",
        "tes = sedan(2, 2, '1000 HP', 'Ferari')\n",
        "\n",
        "# memanggil protected\n",
        "print(\n",
        "    f'Sedan dengan {tes.pintu} Pintu dan {tes.jendela} Jendela ini bermesin {tes.mesin} dibuat oleh {tes.merk}')"
      ],
      "metadata": {
        "colab": {
          "base_uri": "https://localhost:8080/"
        },
        "id": "77I2fov3wJIm",
        "outputId": "12eb4b98-b8a6-4644-d74c-4a7885b6766c"
      },
      "execution_count": 5,
      "outputs": [
        {
          "output_type": "stream",
          "name": "stdout",
          "text": [
            "Sedan dengan 2 Pintu dan 2 Jendela ini bermesin 1000 HP dibuat oleh Ferari\n"
          ]
        }
      ]
    },
    {
      "cell_type": "code",
      "source": [
        "class Mobil:\n",
        "    def __init__(self, jendela, pintu, mesin) -> None:\n",
        "        self.__jendela = jendela\n",
        "        self.__pintu = pintu\n",
        "        self.__mesin = mesin\n",
        "\n",
        "\n",
        "class Sport(Mobil):\n",
        "    def __init__(self, jendela, pintu, mesin, warna) -> None:\n",
        "        super().__init__(jendela, pintu, mesin)\n",
        "        self.__warna = warna\n",
        "\n",
        "\n",
        "tes = Sport(2, 2, '1300 HP', 'Merah')\n",
        "\n",
        "\n",
        "# memanggil private\n",
        "print(tes._Mobil_warna)"
      ],
      "metadata": {
        "id": "DwnF1WsJweo5"
      },
      "execution_count": null,
      "outputs": []
    },
    {
      "cell_type": "code",
      "source": [
        "class Pegawai:\n",
        "    __nama=\"\"\n",
        "    __alamat=\"\"\n",
        "    __gaji=0\n",
        "    \n",
        "    def __init__(self,nama,alamat):\n",
        "        self.__nama=nama\n",
        "        self.__alamat=alamat\n",
        "        \n",
        "    def __hitungGaji(self):\n",
        "        upahLembur=20000\n",
        "        gajiPokok=2000000\n",
        "        jumLembur=int(input(\"total jam lembur: \"))\n",
        "        self.__gaji=(upahLembur*jumLembur)+gajiPokok\n",
        "        \n",
        "    def tampilDetail(self):\n",
        "        print(\"\\n--Menghitung dan Menampilkan Detail Gaji Pegawai--\")\n",
        "        print(\"Nama: \", self.__nama)\n",
        "        print(\"Alamat: \", self.__alamat)\n",
        "        self.__hitungGaji()\n",
        "        print(\"Total Gaji: \", self.__gaji)\n",
        "        \n",
        "#membuat objek pegawai\n",
        "pgw1=Pegawai(\"ahmad\", \"jl.jendral sudirman no.5\")\n",
        "pgw1.tampilDetail()\n",
        "\n",
        "pgw2=Pegawai(\"firman\", \"jl.duku no.6\")\n",
        "pgw2.tampilDetail()"
      ],
      "metadata": {
        "colab": {
          "base_uri": "https://localhost:8080/"
        },
        "id": "Gmn9E5QhpAlv",
        "outputId": "133df9ed-8d34-48bf-d89d-763bf1603491"
      },
      "execution_count": null,
      "outputs": [
        {
          "output_type": "stream",
          "name": "stdout",
          "text": [
            "\n",
            "--Menghitung dan Menampilkan Detail Gaji Pegawai--\n",
            "Nama:  ahmad\n",
            "Alamat:  jl.jendral sudirman no.5\n",
            "total jam lembur: 2\n",
            "Total Gaji:  2040000\n",
            "\n",
            "--Menghitung dan Menampilkan Detail Gaji Pegawai--\n",
            "Nama:  firman\n",
            "Alamat:  jl.duku no.6\n",
            "total jam lembur: 4\n",
            "Total Gaji:  2080000\n"
          ]
        }
      ]
    },
    {
      "cell_type": "code",
      "source": [
        "class Buku:\n",
        "    def __init__(self, judul, pengarang, tahun_terbit, penerbit):\n",
        "        self.judul = judul\n",
        "        self.pengarang = pengarang\n",
        "        self.tahun_terbit = tahun_terbit\n",
        "        self.__penerbit = penerbit\n",
        "\n",
        "\n",
        "buku1 = Buku('Perempuan Jogja', 'AHMAD MUNIF', 2010, 'erlangga')\n",
        "buku2 = Buku('Sihir Perempuan', 'INTAN PARAMADHITA', 2005, 'erlangga')\n",
        "buku3 = Buku('Antara Ayah dan Anak',\n",
        "             'IVAN S. TURGENEV', 1986, 'erlangga')\n",
        "\n",
        "perpus = [buku1, buku2, buku3]\n",
        "\n",
        "for i in perpus:\n",
        "    print(\n",
        "        f'Buku {i.judul} karangan {i.pengarang} pertama kali diterbitkan tahun {i.tahun_terbit} oleh {i._Buku__penerbit}')"
      ],
      "metadata": {
        "colab": {
          "base_uri": "https://localhost:8080/"
        },
        "id": "K5XUnn_byQ4A",
        "outputId": "d0f49732-c5cb-4926-8d11-94514b1bb383"
      },
      "execution_count": 13,
      "outputs": [
        {
          "output_type": "stream",
          "name": "stdout",
          "text": [
            "Buku Perempuan Jogja karangan AHMAD MUNIF pertama kali diterbitkan tahun 2010 oleh erlangga\n",
            "Buku Sihir Perempuan karangan INTAN PARAMADHITA pertama kali diterbitkan tahun 2005 oleh erlangga\n",
            "Buku Antara Ayah dan Anak karangan IVAN S. TURGENEV pertama kali diterbitkan tahun 1986 oleh erlangga\n"
          ]
        }
      ]
    },
    {
      "cell_type": "code",
      "source": [
        "class Mahasiswa:\n",
        "    def __init__(self, nama, nim, prodi, thn_masuk, gender):\n",
        "        self.nama = nama\n",
        "        self.nim = nim\n",
        "        self.prodi = prodi\n",
        "        self.thn_masuk = thn_masuk\n",
        "        self.__gender = gender\n",
        "\n",
        "\n",
        "m1 = Mahasiswa('Udin', '10120371', 'Sistem Informasi', 2020, 'Laki - Laki')\n",
        "m2 = Mahasiswa('Danu', '5210411165', 'Informatika', 2021, 'Laki - Laki')\n",
        "m3 = Mahasiswa('Esa', '5210411159', 'Informatika', 2021, 'Laki - Laki')\n",
        "\n",
        "data = [m1, m2, m3]\n",
        "\n",
        "for i in data:\n",
        "    print(f'{i.nama} adalah mahasiswa {i.prodi} angkatan {i.thn_masuk} dengan nim {i.nim} ia berjenis kelamin {i._Mahasiswa__gender}')"
      ],
      "metadata": {
        "colab": {
          "base_uri": "https://localhost:8080/"
        },
        "id": "nVMMX5g10SEc",
        "outputId": "0c38e108-1613-416b-8aac-57e92c6300f2"
      },
      "execution_count": 14,
      "outputs": [
        {
          "output_type": "stream",
          "name": "stdout",
          "text": [
            "Udin adalah mahasiswa Sistem Informasi angkatan 2020 dengan nim 10120371 ia berjenis kelamin Laki - Laki\n",
            "Danu adalah mahasiswa Informatika angkatan 2021 dengan nim 5210411165 ia berjenis kelamin Laki - Laki\n",
            "Esa adalah mahasiswa Informatika angkatan 2021 dengan nim 5210411159 ia berjenis kelamin Laki - Laki\n"
          ]
        }
      ]
    },
    {
      "cell_type": "code",
      "source": [
        "class menuMinuman:\n",
        "    def __init__(self, nama, deskripsi, harga, gula):\n",
        "        self.nama = nama\n",
        "        self.deskripsi = deskripsi\n",
        "        self.harga = harga\n",
        "        self.__gula = gula\n",
        "\n",
        "\n",
        "mnm1 = menuMinuman('Jus Jambu', 'Jus jambu merah tanpa gula',\n",
        "                   8500, 'less Sugar / Normal')\n",
        "mnm2 = menuMinuman('Jus Alpukat Ori',\n",
        "                   'Jus alpukat dengan tambahan air gula merah', 15000, 'less Sugar / Normal')\n",
        "mnm3 = menuMinuman('Jus Alpukat Xtra Milk',\n",
        "                   'Jus alpukat dengan campuran susu coklat dan tamburan kepingan choco', 15000, 'less Sugar / Normal')\n",
        "mnm4 = menuMinuman(\n",
        "    'Red & Smoothie', 'Smoothie pisang susu dan strawberry', 17500, 'less Sugar / Normal')\n",
        "\n",
        "mnm5 = menuMinuman('Boba Red Velvet',\n",
        "                   'Minuman Segar disertai boba', 15000, 'less Sugar / Normal')\n",
        "mnm6 = menuMinuman('Es Teh', 'Minuman Menyegarkan',\n",
        "                   5000, 'less Sugar / Normal')\n",
        "\n",
        "\n",
        "pilihanMenu = [mnm1, mnm2, mnm3, mnm4, mnm5, mnm6]\n",
        "print('Daftar Menu Healthy Fruits')\n",
        "\n",
        "for i in pilihanMenu:\n",
        "    print('{} harga Rp. {} , {} , {}' .format(\n",
        "        i.nama, i.harga, i.deskripsi, i._menuMinuman__gula))"
      ],
      "metadata": {
        "colab": {
          "base_uri": "https://localhost:8080/"
        },
        "id": "XxsJ3nwD1MA7",
        "outputId": "3df289e7-1472-4555-c06c-8ce5fbc629a2"
      },
      "execution_count": 15,
      "outputs": [
        {
          "output_type": "stream",
          "name": "stdout",
          "text": [
            "Daftar Menu Healthy Fruits\n",
            "Jus Jambu harga Rp. 8500 , Jus jambu merah tanpa gula , less Sugar / Normal\n",
            "Jus Alpukat Ori harga Rp. 15000 , Jus alpukat dengan tambahan air gula merah , less Sugar / Normal\n",
            "Jus Alpukat Xtra Milk harga Rp. 15000 , Jus alpukat dengan campuran susu coklat dan tamburan kepingan choco , less Sugar / Normal\n",
            "Red & Smoothie harga Rp. 17500 , Smoothie pisang susu dan strawberry , less Sugar / Normal\n",
            "Boba Red Velvet harga Rp. 15000 , Minuman Segar disertai boba , less Sugar / Normal\n",
            "Es Teh harga Rp. 5000 , Minuman Menyegarkan , less Sugar / Normal\n"
          ]
        }
      ]
    }
  ],
  "metadata": {
    "colab": {
      "collapsed_sections": [],
      "name": "pertemuan 4",
      "provenance": []
    },
    "kernelspec": {
      "display_name": "Python 3",
      "name": "python3"
    }
  },
  "nbformat": 4,
  "nbformat_minor": 0
}