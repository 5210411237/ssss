{
  "cells": [
    {
      "cell_type": "code",
      "source": [
        "#NAMA : ROYYAN MUSTOVA\n",
        "#NIM  : 5210411237\n",
        "#KELAS: PBOP-VII  "
      ],
      "metadata": {
        "id": "AOOccAiJI6cS"
      },
      "execution_count": null,
      "outputs": []
    },
    {
      "cell_type": "code",
      "source": [
        "#ComputerPart multiple\n",
        "class processor():\n",
        "    def __init__(self, jenisProcessor) -> None:\n",
        "        self.processor = jenisProcessor\n",
        "\n",
        "class penyimpananSementara():\n",
        "    def __init__(self, ram) -> None:\n",
        "        self.ram = ram\n",
        "\n",
        "class penyimpanan():\n",
        "    def __init__(self, storage) -> None:\n",
        "        self.storage = storage\n",
        "# child\n",
        "class computerPart(processor, penyimpananSementara, penyimpanan):\n",
        "    def __init__(self, jenisProcessor, ram, storage) -> None:\n",
        "        processor.__init__(self, jenisProcessor)\n",
        "        penyimpananSementara.__init__(self, ram)\n",
        "        penyimpanan.__init__(self, storage)\n",
        "\n",
        "\n",
        "myPc = computerPart('AMD RYZEN3 50000,4Ghz', 'DDR4 8GB','HDD  6 TB')\n",
        "\n",
        "print(f'Laptop dengan processor {myPc.processor}, dengan dilengkapi RAM {myPc.ram} serta penyimpanan {myPc.storage}')"
      ],
      "metadata": {
        "id": "7WZZXQ9KHfUo",
        "outputId": "1e50078b-c6ed-4be5-a5dc-fb6c5e0b7be0",
        "colab": {
          "base_uri": "https://localhost:8080/"
        }
      },
      "execution_count": null,
      "outputs": [
        {
          "output_type": "stream",
          "name": "stdout",
          "text": [
            "Laptop dengan processor AMD RYZEN3 50000,4Ghz, dengan dilengkapi RAM DDR4 8GB serta penyimpanan HDD  6 TB\n"
          ]
        }
      ]
    },
    {
      "cell_type": "code",
      "source": [
        "#ComputerPart multilevel\n",
        "\n",
        "class computerPart:\n",
        "    def __init__(self, nama, harga):\n",
        "        self.nama = nama\n",
        "        self.harga = harga\n",
        "\n",
        "class storage(computerPart):\n",
        "    def __init__(self, nama, harga, jenis):\n",
        "        super().__init__(nama, harga)\n",
        "        self.jenis = jenis\n",
        "\n",
        "class hdd(storage):\n",
        "    def __init__(self,nama, harga, kapasistas):\n",
        "        super().__init__(nama, harga, 'HDD')\n",
        "        self.kapasitas = kapasistas\n",
        "\n",
        "pc = hdd('Tosibha',600000,'3 TB')\n",
        "print(f'Computer dengan penyimpanan jenis {pc.jenis} yang berkapasitas {pc.kapasitas}')"
      ],
      "metadata": {
        "id": "KrYln7j6I4zS",
        "outputId": "ab3465d8-c267-488c-c291-2b9155a7a9d6",
        "colab": {
          "base_uri": "https://localhost:8080/"
        }
      },
      "execution_count": null,
      "outputs": [
        {
          "output_type": "stream",
          "name": "stdout",
          "text": [
            "Computer dengan penyimpanan jenis HDD yang berkapasitas 3 TB\n"
          ]
        }
      ]
    },
    {
      "cell_type": "code",
      "source": [
        "#ComputerPart hierarchical\n",
        "\n",
        "class computerPart:\n",
        "    def __init__(self,pabrikan, nama, jenis, harga):\n",
        "        self.pabrikan = pabrikan\n",
        "        self.nama = nama\n",
        "        self.jenis = jenis\n",
        "        self.harga = harga\n",
        "\n",
        "class processor(computerPart):\n",
        "    def __init__(self,pabrikan,nama,harga,jumlahCore, speed):\n",
        "        super().__init__(pabrikan, nama, \"Processor\", harga)\n",
        "        self.jumlahCore = jumlahCore\n",
        "        self.speed = speed\n",
        "\n",
        "    def detailProcessor(self):\n",
        "        print('\\nDetail Processor')\n",
        "        print(f'''\n",
        "        Pabrikan    : {self.pabrikan}\n",
        "        Nama        : {self.nama}\n",
        "        Jumlah Core : {self.jumlahCore}\n",
        "        Speed       : {self.speed}\n",
        "        Harga       : {self.harga}''')\n",
        "\n",
        "class ram(computerPart):\n",
        "    def __init__(self,pabrikan, nama, harga, kapasitas):\n",
        "        super().__init__(pabrikan,nama,\"RAM\",harga)\n",
        "        self.kapasitas = kapasitas\n",
        "\n",
        "    def detailRam(self):\n",
        "        print('\\nDetail Ram')\n",
        "        print(f'''\n",
        "        Pabrikan    : {self.pabrikan}\n",
        "        Nama        : {self.nama}\n",
        "        Kapasitas   : {self.kapasitas}\n",
        "        Harga       : {self.harga}''')\n",
        "\n",
        "class hardDisk(computerPart):\n",
        "    def __init__(self, pabrikan, nama, harga,  kapasitas, rpm):\n",
        "        super().__init__(pabrikan, nama, \"Sata\", harga)\n",
        "        self.kapasitas = kapasitas\n",
        "        self.rpm = rpm\n",
        "\n",
        "    def detailHardisk(self):\n",
        "        print('\\nDetail Harddisk')\n",
        "        print(f'''\n",
        "        Pabrikan    : {self.pabrikan}\n",
        "        Nama        : {self.nama}\n",
        "        Kapasitas   : {self.kapasitas}\n",
        "        Speed       : {self.kapasitas} RPM\n",
        "        Harga       : {self.harga}''')\n",
        "        \n",
        "\n",
        "data1 = input('Input data processor (Pabrikan, Nama, harga, Jumlah Core, kecepatan) : ')\n",
        "data1 = data1.split(',')\n",
        "p = processor(data1[0],data1[1],int(data1[2]),data1[3],data1[4])\n",
        "\n",
        "data2 = input('Input data ram (Pabrikan, Nama, harga, kapasistas) : ')\n",
        "data2 = data2.split(',')\n",
        "r = ram(data2[0],data2[1],int(data2[2]),data2[3])\n",
        "\n",
        "data3 = input('Input data hardisk (Pabrikan, Nama, harga, kapasistas, rpm) : ')\n",
        "data3 = data3.split(',')\n",
        "hdd = hardDisk(data3[0],data3[1],int(data3[2]),data3[3],data3[4])\n",
        "\n",
        "parts = [p,r,hdd]\n",
        "for part in parts:\n",
        "    print(f'{part.jenis} {part.nama} Produksi {part.pabrikan}')\n",
        "\n",
        "p.detailProcessor()\n",
        "r.detailRam()\n",
        "hdd.detailHardisk()"
      ],
      "metadata": {
        "id": "BWUy_xGCPqyt",
        "outputId": "b0fce6da-e1af-46c8-fd7d-1a069a90343f",
        "colab": {
          "base_uri": "https://localhost:8080/"
        }
      },
      "execution_count": null,
      "outputs": [
        {
          "output_type": "stream",
          "name": "stdout",
          "text": [
            "Input data processor (Pabrikan, Nama, harga, Jumlah Core, kecepatan) : asus,vivobook,1234,1122,4ghz\n",
            "Input data ram (Pabrikan, Nama, harga, kapasistas) : tosibha,ddr,456,1tb\n",
            "Input data hardisk (Pabrikan, Nama, harga, kapasistas, rpm) : sata,v-gen,134,2tb,5ghz\n",
            "Processor vivobook Produksi asus\n",
            "RAM ddr Produksi tosibha\n",
            "Sata v-gen Produksi sata\n",
            "\n",
            "Detail Processor\n",
            "\n",
            "        Pabrikan    : asus\n",
            "        Nama        : vivobook\n",
            "        Jumlah Core : 1122\n",
            "        Speed       : 4ghz\n",
            "        Harga       : 1234\n",
            "\n",
            "Detail Ram\n",
            "\n",
            "        Pabrikan    : tosibha\n",
            "        Nama        : ddr\n",
            "        Kapasitas   : 1tb\n",
            "        Harga       : 456\n",
            "\n",
            "Detail Harddisk\n",
            "\n",
            "        Pabrikan    : sata\n",
            "        Nama        : v-gen\n",
            "        Kapasitas   : 2tb\n",
            "        Speed       : 2tb RPM\n",
            "        Harga       : 134\n"
          ]
        }
      ]
    }
  ],
  "metadata": {
    "colab": {
      "collapsed_sections": [],
      "name": "TUGAS PERTEMUAN5",
      "provenance": []
    },
    "kernelspec": {
      "display_name": "Python 3",
      "name": "python3"
    }
  },
  "nbformat": 4,
  "nbformat_minor": 0
}