{
  "cells": [
    {
      "cell_type": "code",
      "source": [
        "#Membuat list\n",
        "merk_hp = ('apple', 'samsung', 'realme', 'oppo',)\n",
        "print(merk_hp)\n",
        "#Mengubah list menjadi set\n",
        "merk_hp = set(['apple', 'samsung', 'realme', 'xiaomi', 'oppo'])\n",
        "print(merk_hp)\n",
        "#Membuat Set dengan berbagai tipe data\n",
        "set_merkhp = {'oppo', 'realme', 50, True, ('A', 'B')}\n",
        "print(set_merkhp)\n",
        "\n",
        "print(\"\")\n",
        "himpunan_huruf = {'a', 'b', 'c'}\n",
        "print(himpunan_huruf)\n",
        "#Fungsi Add\n",
        "himpunan_huruf.add('d')\n",
        "himpunan_huruf.add('e')\n",
        "print(himpunan_huruf)\n",
        "#Fungsi Update\n",
        "himpunan_huruf.update({ 'f', 'g' })\n",
        "print(himpunan_huruf)\n",
        "\n",
        "print(\"\")\n",
        "himpunan = {'rahmat', 'zaid', 100, ('a', 'b'), False, True}\n",
        "print(himpunan)\n",
        "#Fungsi Remove\n",
        "himpunan.remove(100)\n",
        "print(himpunan)\n",
        "#Fungsi Discard\n",
        "himpunan.discard(('a', 'b'))\n",
        "print(himpunan)\n",
        "#Fungsi Pop\n",
        "nilaiYangDihapus = himpunan.pop()\n",
        "print('nilaiYangDihapus =', nilaiYangDihapus)\n",
        "print(himpunan)\n",
        "#Fungsi Clear\n",
        "himpunan.clear()\n",
        "print(himpunan)\n",
        "\n",
        "grup_laki = {\n",
        "  'jojo', 'ilham', 'taufiq', 'arda'\n",
        "}\n",
        "grup_perempuan = {\n",
        "  'melan', 'raden', 'ayu', 'anes'\n",
        "}\n",
        "print(\"\")\n",
        "#Fungsi Union (Gabungan)\n",
        "print(grup_laki.union(grup_perempuan))\n",
        "#Fungsi Intersection (Irisan)\n",
        "print(grup_laki.intersection(grup_perempuan))\n",
        "#Fungsi Difference (Selisih)\n",
        "print('\\nanggota grup laki yang bukan anggota grup perempuan')\n",
        "print(grup_laki - grup_perempuan)\n",
        "print(grup_laki.difference(grup_perempuan))\n",
        "\n",
        "print('\\ndibalik, anggota grup perempuan yang bukan anggota grup laki:')\n",
        "print(grup_perempuan - grup_laki)\n",
        "print(grup_perempuan.difference(grup_laki))\n",
        "#Symmetric Difference\n",
        "print('\\nanggota yang hanya ikut satu grup saja:')\n",
        "print(grup_perempuan.symmetric_difference(grup_laki))"
      ],
      "metadata": {
        "id": "s3dBt4U_5zbO",
        "outputId": "5f4c48e5-1929-47f5-bf3e-3240c50c2480",
        "colab": {
          "base_uri": "https://localhost:8080/"
        }
      },
      "execution_count": 1,
      "outputs": [
        {
          "output_type": "stream",
          "name": "stdout",
          "text": [
            "('apple', 'samsung', 'realme', 'oppo')\n",
            "{'xiaomi', 'realme', 'oppo', 'samsung', 'apple'}\n",
            "{True, 'realme', ('A', 'B'), 50, 'oppo'}\n",
            "\n",
            "{'a', 'b', 'c'}\n",
            "{'b', 'a', 'e', 'd', 'c'}\n",
            "{'b', 'g', 'a', 'e', 'f', 'd', 'c'}\n",
            "\n",
            "{'rahmat', False, ('a', 'b'), 'zaid', 100, True}\n",
            "{'rahmat', False, ('a', 'b'), 'zaid', True}\n",
            "{'rahmat', False, 'zaid', True}\n",
            "nilaiYangDihapus = rahmat\n",
            "{False, 'zaid', True}\n",
            "set()\n",
            "\n",
            "{'anes', 'arda', 'ayu', 'taufiq', 'raden', 'melan', 'jojo', 'ilham'}\n",
            "set()\n",
            "\n",
            "anggota grup laki yang bukan anggota grup perempuan\n",
            "{'arda', 'taufiq', 'jojo', 'ilham'}\n",
            "{'arda', 'taufiq', 'jojo', 'ilham'}\n",
            "\n",
            "dibalik, anggota grup perempuan yang bukan anggota grup laki:\n",
            "{'melan', 'raden', 'ayu', 'anes'}\n",
            "{'melan', 'raden', 'ayu', 'anes'}\n",
            "\n",
            "anggota yang hanya ikut satu grup saja:\n",
            "{'anes', 'arda', 'ayu', 'taufiq', 'raden', 'melan', 'jojo', 'ilham'}\n"
          ]
        }
      ]
    }
  ],
  "metadata": {
    "colab": {
      "collapsed_sections": [],
      "name": "Selamat Datang di Colaboratory",
      "toc_visible": true,
      "provenance": []
    },
    "kernelspec": {
      "display_name": "Python 3",
      "name": "python3"
    }
  },
  "nbformat": 4,
  "nbformat_minor": 0
}