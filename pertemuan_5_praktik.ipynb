{
  "cells": [
    {
      "cell_type": "code",
      "source": [
        "# Single inheritance\n",
        "\n",
        "#parent class\n",
        "class Hewan:\n",
        "  def bersuara(self):\n",
        "    print('kucing bersuara')\n",
        "\n",
        "#child class mewarisi class Hewan\n",
        "class Kucing(Hewan):\n",
        "  def suara(self):\n",
        "    print('meong. . .meong. . .meong . . .')\n",
        "\n",
        "#objek \n",
        "k=Kucing()\n",
        "k.suara()\n",
        "k.bersuara()"
      ],
      "metadata": {
        "id": "uv5pJBHj0Gu_",
        "outputId": "e617dda3-a5a9-486b-e3d6-0cc2859cc67e",
        "colab": {
          "base_uri": "https://localhost:8080/"
        }
      },
      "execution_count": null,
      "outputs": [
        {
          "output_type": "stream",
          "name": "stdout",
          "text": [
            "meong. . .meong. . .meong. . .\n",
            "kucing bersuara\n"
          ]
        }
      ]
    },
    {
      "cell_type": "code",
      "source": [
        "# MultiLevel inheritance\n",
        "\n",
        "# Parent Class\n",
        "class Hewan:\n",
        "  def bersuara(self):\n",
        "    print('kucing bersuara')\n",
        "\n",
        "# Child class mewarisi class Hewan\n",
        "class Kucing(Hewan):\n",
        "  def suara(self):\n",
        "    print('meong. . .meong. . .meong. . .')\n",
        "\n",
        "# Child class AnakKucing mewarisi dari class Hewan\n",
        "class AnakKucing(Kucing):\n",
        "  def minum(self):\n",
        "    print('minum susu')\n",
        "\n",
        "#Objek\n",
        "ak=AnakKucing()\n",
        "ak.bersuara()\n",
        "ak.suara()\n",
        "ak.minum()"
      ],
      "metadata": {
        "id": "JgM6pppX6jSB",
        "outputId": "19c7e910-18f4-4e36-c86a-1b0a2e0bce4e",
        "colab": {
          "base_uri": "https://localhost:8080/"
        }
      },
      "execution_count": null,
      "outputs": [
        {
          "output_type": "stream",
          "name": "stdout",
          "text": [
            "kucing bersuara\n",
            "meong. . .meong. . .meong. . .\n",
            "minum susu\n"
          ]
        }
      ]
    },
    {
      "cell_type": "code",
      "source": [
        "# Hierarchical Inheritance\n",
        "\n",
        "# Class perent\n",
        "class Induk:\n",
        "  def fungsiinduk(self):\n",
        "    print('fungsi pada perent class.')\n",
        "\n",
        "# Class turunan 1\n",
        "class Anak1(Induk):\n",
        "  def fungsianak1(self):\n",
        "    print('fungsi pada anak 1.')\n",
        "\n",
        "# Class turunan 2\n",
        "class Anak2(Induk):\n",
        "  def fungsianak2(self):\n",
        "    print('fungsi pada anak 2.')\n",
        "\n",
        "a1=Anak1()\n",
        "a2=Anak2()\n",
        "\n",
        "a1.fungsiinduk()\n",
        "a1.fungsianak1()\n",
        "\n",
        "a2.fungsiinduk()\n",
        "a2.fungsianak2()\n",
        "\n"
      ],
      "metadata": {
        "id": "JH3oHm698uYN",
        "outputId": "85a552cf-9588-4ec7-981b-219f5c9227b7",
        "colab": {
          "base_uri": "https://localhost:8080/"
        }
      },
      "execution_count": null,
      "outputs": [
        {
          "output_type": "stream",
          "name": "stdout",
          "text": [
            "fungsi pada perent class.\n",
            "fungsi pada anak 1.\n",
            "fungsi pada perent class.\n",
            "fungsi pada anak 2.\n"
          ]
        }
      ]
    },
    {
      "cell_type": "code",
      "source": [
        "#@title Teks judul default\n",
        "import builtins\n",
        "# Multiple Inheritance\n",
        "\n",
        "#Parent 1\n",
        "class Perhitungan1:\n",
        "  def penjumlahan(self,a,b):\n",
        "   return a+b\n",
        "\n",
        "#Parent 2\n",
        "class Perhitungan2:\n",
        "  def perkalian(self,a,b):\n",
        "    return a+b\n",
        "\n",
        "#Child\n",
        "class Hitung(Perhitungan1, Perhitungan2):\n",
        "  def pembagian(self,a,b):\n",
        "    return a/b\n",
        "\n",
        "h=Hitung()\n",
        "print(h.penjumlahan(20,30))\n",
        "print(h.perkalian(5,4))\n",
        "print(h.pembagian(6,12))\n"
      ],
      "metadata": {
        "cellView": "code",
        "id": "lNlxWMUq-lfJ",
        "outputId": "b9958291-0d7a-4176-bbcc-edabaf714111",
        "colab": {
          "base_uri": "https://localhost:8080/"
        }
      },
      "execution_count": null,
      "outputs": [
        {
          "output_type": "stream",
          "name": "stdout",
          "text": [
            "50\n",
            "9\n",
            "0.5\n"
          ]
        }
      ]
    },
    {
      "cell_type": "code",
      "source": [
        "class ComputerPart:\n",
        "    def __init__(self, pabrikan, nama, jenis, harga) :\n",
        "        self.pabrikan = pabrikan\n",
        "        self.nama = nama \n",
        "        self.jenis = jenis\n",
        "        self.harga = harga\n",
        "\n",
        "class Processor(ComputerPart) :\n",
        "    def __init__(self, pabrikan, nama, harga, jumlah_core, speed) :\n",
        "        super().__init__(pabrikan, nama, 'processor', harga)\n",
        "        self.jumlah_core = jumlah_core\n",
        "        self.speed = speed\n",
        "\n",
        "class RandomAccessMemory(ComputerPart) :\n",
        "    def __init__(self, pabrikan, nama, harga, kapasitas) :\n",
        "        super().__init__(pabrikan, nama, 'SATA', harga)\n",
        "        self.kapasitas = kapasitas \n",
        "    \n",
        "class HardDiskSATA(ComputerPart) :\n",
        "    def __init__(self, pabrikan, nama, harga, kapasitas, rpm) :\n",
        "        super().__init__(pabrikan, nama, 'SATA', harga)\n",
        "        self.kapasitas = kapasitas\n",
        "        self.rpm = rpm  \n",
        "\n",
        "p = Processor('Intel', 'Core i7 7740X', 4350000, 4, '4.3GHz')\n",
        "m = RandomAccessMemory('V-Gen', 'DDR4 SODimm PC19200/2400MHz', 328000, '4GB')\n",
        "hdd = HardDiskSATA('Seagate', 'HDD 2.5 inch', 295000, '500GB', 7200)\n",
        "\n",
        "parts = [p, m, hdd]\n",
        "for part in parts :\n",
        "    print('{} {} produksi {}'.format(part.jenis, part.nama, part.pabrikan))"
      ],
      "metadata": {
        "colab": {
          "base_uri": "https://localhost:8080/"
        },
        "id": "iRIEDdeHHPKw",
        "outputId": "00fa510c-ce5b-4668-c62f-d6a48220aa2b"
      },
      "execution_count": null,
      "outputs": [
        {
          "output_type": "stream",
          "name": "stdout",
          "text": [
            "processor Core i7 7740X produksi Intel\n",
            "SATA DDR4 SODimm PC19200/2400MHz produksi V-Gen\n",
            "SATA HDD 2.5 inch produksi Seagate\n"
          ]
        }
      ]
    },
    {
      "cell_type": "code",
      "source": [
        "# Single inheritance\n",
        "\n",
        "class Mahasiswa:\n",
        "  def __init__(self, nama, nim):\n",
        "    self.nama=nama\n",
        "    self.nim=nim\n",
        "\n",
        "  def detailMhs(self):\n",
        "    return self.nim, self.nama\n",
        "\n",
        "  def cekMhs(self):\n",
        "    if self.nim < 150000:\n",
        "      return \"Mahasiswa aktif\"\n",
        "    else:\n",
        "      return \"Mahasiswa tidak terdaftar\"\n",
        "\n",
        "class Siswa(Mahasiswa):\n",
        "  def End(self):\n",
        "    print(\"Mahasiswa belum melakukan daftar ulang\")\n",
        "\n",
        "mahasiswa1 = Mahasiswa(\"Mahasiswa 1\", 12334)\n",
        "print(mahasiswa1.detailMhs(), mahasiswa1.cekMhs())\n",
        "mahasiswa2 = Siswa(\"Mahasiswa 2\", 515415)\n",
        "print(mahasiswa2.detailMhs(), mahasiswa1.cekMhs())\n",
        "mahasiswa2.End()\n",
        "\n"
      ],
      "metadata": {
        "colab": {
          "base_uri": "https://localhost:8080/"
        },
        "id": "kzi8baAU7g2S",
        "outputId": "da88b55d-05ee-46ff-8f2b-143befc8253e"
      },
      "execution_count": null,
      "outputs": [
        {
          "output_type": "stream",
          "name": "stdout",
          "text": [
            "(12334, 'Mahasiswa 1') Mahasiswa aktif\n",
            "(515415, 'Mahasiswa 2') Mahasiswa aktif\n",
            "Mahasiswa belum melakukan daftar ulang\n"
          ]
        }
      ]
    },
    {
      "cell_type": "code",
      "source": [
        "#multilevel inheritance\n",
        "\n",
        "class Mahasiswa():\n",
        "  def __init__(self,nama,nim):\n",
        "    self.nama=nama\n",
        "    self.nim=nim\n",
        "\n",
        "class Siswa1(Mahasiswa):\n",
        "  def __init__(self, nama, nim):\n",
        "    self.nama=nama\n",
        "    self.nim=nim\n",
        "\n",
        "class Siswa2(Siswa1):\n",
        "  def __init__(self, nama, nim):\n",
        "    self.nama=nama\n",
        "    self.nim=nim\n",
        "\n",
        "mhs1=Mahasiswa('Fitri',1522)\n",
        "mhs2=Siswa1('Ambar',1533)\n",
        "mhs3=Siswa2('Sari',1544)\n",
        "\n",
        "print(mhs1.nama, mhs1.nim)\n",
        "print(mhs2.mhs2.nim)\n",
        "print(mhs3.nim)"
      ],
      "metadata": {
        "colab": {
          "base_uri": "https://localhost:8080/"
        },
        "id": "lPVcIH1K-a_t",
        "outputId": "3d736840-54c0-4cf1-f4a2-03e1ba51aeec"
      },
      "execution_count": null,
      "outputs": [
        {
          "output_type": "stream",
          "name": "stdout",
          "text": [
            "Fitri 1522\n",
            "1533\n",
            "1544\n"
          ]
        }
      ]
    },
    {
      "cell_type": "code",
      "source": [
        "#hierarchical inheritance\n",
        "\n",
        "class Mahasiswa():\n",
        "  def __init__(self, nama, nim):\n",
        "    self.nama=nama\n",
        "    self.nim=nim\n",
        "\n",
        "class Siswa1(Mahasiswa):\n",
        "  def __init__(self, nama, nim):\n",
        "    self.nama=nama\n",
        "    self.nim=nim\n",
        "\n",
        "  def detSiswa(self):\n",
        "    print(self.nama,'alamat: wonogiri')\n",
        "\n",
        "class Siswa2(Siswa1):\n",
        "  def __init__(self, nama, nim):\n",
        "    self.nama=nama\n",
        "    self.nim=nim\n",
        "\n",
        "  def detSiswa2(self):\n",
        "    print(self.nama,'jurusan: informatika')\n",
        "\n",
        "mhs1=Siswa1('ahmad',1533)\n",
        "mhs2=Siswa2('budi',1544)\n",
        "\n",
        "print(mhs1.nim)\n",
        "mhs1.detSiswa()\n",
        "print(mhs2.nim)\n",
        "mhs2.detSiswa2()"
      ],
      "metadata": {
        "colab": {
          "base_uri": "https://localhost:8080/"
        },
        "id": "WPWhhaE1_7ax",
        "outputId": "f3aaef2b-ca54-41e9-8c82-d8aedcefbe68"
      },
      "execution_count": null,
      "outputs": [
        {
          "output_type": "stream",
          "name": "stdout",
          "text": [
            "1533\n",
            "ahmad alamat: wonogiri\n",
            "1544\n",
            "budi jurusan: informatika\n"
          ]
        }
      ]
    },
    {
      "cell_type": "code",
      "source": [
        "class Mahasiswa1() :\n",
        "    def __init__(self, nama, nim ) :\n",
        "        self.nama = nama\n",
        "        self.nim = nim\n",
        "#5210411215    \n",
        "class Mahasiswa2() :\n",
        "    def __init__(self, alamat, jurusan) :\n",
        "        self.alamat = alamat\n",
        "        self.jurusan = jurusan\n",
        "#5210411215    \n",
        "class Siswa(Mahasiswa1, Mahasiswa2) :\n",
        "    def __init__(self, nama, nim, alamat, jurusan) :\n",
        "        Mahasiswa1.__init__(self, nama, nim)\n",
        "        Mahasiswa2.__init__(self, alamat, jurusan)\n",
        "\n",
        "s = Siswa(\"Mikasa\", 135105, \"Wall Rose\", \"Informatika\") \n",
        "print(f\"Nim : {s.nim}, Nama : {s.nama} Alamat : {s.alamat} Jurusan : {s.jurusan}\")"
      ],
      "metadata": {
        "colab": {
          "base_uri": "https://localhost:8080/"
        },
        "id": "gm2retpgGPp8",
        "outputId": "7474a4c8-50fb-402a-f916-d7538ddb7ec4"
      },
      "execution_count": null,
      "outputs": [
        {
          "output_type": "stream",
          "name": "stdout",
          "text": [
            "Nim : 135105, Nama : Mikasa Alamat : Wall Rose Jurusan : Informatika\n"
          ]
        }
      ]
    },
    {
      "cell_type": "code",
      "source": [
        "# parent\n",
        "class processor():\n",
        "    def __init__(self, jenisProcessor) -> None:\n",
        "        self.processor = jenisProcessor\n",
        "\n",
        "class penyimpananSementara():\n",
        "    def __init__(self, ram) -> None:\n",
        "        self.ram = ram\n",
        "\n",
        "class penyimpanan():\n",
        "    def __init__(self, storage) -> None:\n",
        "        self.storage = storage\n",
        "# child\n",
        "class computerPart(processor, penyimpananSementara, penyimpanan):\n",
        "    def __init__(self, jenisProcessor, ram, storage) -> None:\n",
        "        processor.__init__(self, jenisProcessor)\n",
        "        penyimpananSementara.__init__(self, ram)\n",
        "        penyimpanan.__init__(self, storage)\n",
        "\n",
        "\n",
        "myPc = computerPart('i5 8420U 2,4Ghz', 'DDR4 4GB','HDD Toshiba 1 TB')\n",
        "\n",
        "print(f'Laptop dengan processor {myPc.processor}, dengan dilengkapi RAM {myPc.ram} serta penyimpanan {myPc.storage}')"
      ],
      "metadata": {
        "id": "SghBYsFmJtlG",
        "outputId": "0e5270a8-a440-4508-9c5b-6d8986c5990e",
        "colab": {
          "base_uri": "https://localhost:8080/"
        }
      },
      "execution_count": null,
      "outputs": [
        {
          "output_type": "stream",
          "name": "stdout",
          "text": [
            "Laptop dengan processor i5 8420U 2,4Ghz, dengan dilengkapi RAM DDR4 4GB serta penyimpanan HDD Toshiba 1 TB\n"
          ]
        }
      ]
    }
  ],
  "metadata": {
    "colab": {
      "collapsed_sections": [],
      "name": "pertemuan 5_praktik",
      "provenance": []
    },
    "kernelspec": {
      "display_name": "Python 3",
      "name": "python3"
    }
  },
  "nbformat": 4,
  "nbformat_minor": 0
}